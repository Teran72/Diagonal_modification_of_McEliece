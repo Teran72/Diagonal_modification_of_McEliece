{
 "cells": [
  {
   "cell_type": "code",
   "execution_count": 1,
   "metadata": {
    "collapsed": true
   },
   "outputs": [],
   "source": [
    "import numpy as np;\n",
    "from queue import *\n",
    "import time"
   ]
  },
  {
   "cell_type": "code",
   "execution_count": 2,
   "metadata": {
    "collapsed": true
   },
   "outputs": [],
   "source": [
    "class Stopwatch:\n",
    "    starttime = 0\n",
    "    \n",
    "    def start():\n",
    "        Stopwatch.starttime = time.time()\n",
    "        \n",
    "    def check():\n",
    "        return time.time() - Stopwatch.starttime"
   ]
  },
  {
   "cell_type": "code",
   "execution_count": 33,
   "metadata": {
    "collapsed": true
   },
   "outputs": [],
   "source": [
    "def build_cycles(p, m):\n",
    "    n = 1\n",
    "    for i in range(m):\n",
    "        n *= p\n",
    "    n -= 1\n",
    "    \n",
    "    table = []\n",
    "    nums = [(-1, -1) for i in range(n)]\n",
    "    for i in range(n):\n",
    "        if (nums[i][0] < 0):\n",
    "            line = [i]\n",
    "            nums[i] = (len(table), 0)\n",
    "            j = (i * p) % n\n",
    "            while (j != i):\n",
    "                nums[j] = (len(table), len(line))\n",
    "                line.append(j)\n",
    "                j = (j * p) % n\n",
    "            table.append(line)\n",
    "    #print(nums)\n",
    "    #print(table)\n",
    "    return table"
   ]
  },
  {
   "cell_type": "code",
   "execution_count": 68,
   "metadata": {
    "collapsed": true
   },
   "outputs": [],
   "source": [
    "def show_cycles(table, pows = 6):\n",
    "    n = sum([len(line) for line in table])\n",
    "\n",
    "    #table = list(table)\n",
    "    for line in table:\n",
    "        #print(line, [i * i % n for i in line], [i * i * i % n for i in line], sep='\\n', end='\\n\\n')\n",
    "        for k in range(pows):\n",
    "            print([i**(k + 1) % n for i in line])\n",
    "        print()\n",
    "    \n",
    "    "
   ]
  },
  {
   "cell_type": "code",
   "execution_count": 80,
   "metadata": {
    "scrolled": true
   },
   "outputs": [
    {
     "name": "stdout",
     "output_type": "stream",
     "text": [
      "[0]\n",
      "[0]\n",
      "[0]\n",
      "[0]\n",
      "[0]\n",
      "[0]\n",
      "\n",
      "[1, 2, 4, 8, 16]\n",
      "[1, 4, 16, 2, 8]\n",
      "[1, 8, 2, 16, 4]\n",
      "[1, 16, 8, 4, 2]\n",
      "[1, 1, 1, 1, 1]\n",
      "[1, 2, 4, 8, 16]\n",
      "\n",
      "[3, 6, 12, 24, 17]\n",
      "[9, 5, 20, 18, 10]\n",
      "[27, 30, 23, 29, 15]\n",
      "[19, 25, 28, 14, 7]\n",
      "[26, 26, 26, 26, 26]\n",
      "[16, 1, 2, 4, 8]\n",
      "\n",
      "[5, 10, 20, 9, 18]\n",
      "[25, 7, 28, 19, 14]\n",
      "[1, 8, 2, 16, 4]\n",
      "[5, 18, 9, 20, 10]\n",
      "[25, 25, 25, 25, 25]\n",
      "[1, 2, 4, 8, 16]\n",
      "\n",
      "[7, 14, 28, 25, 19]\n",
      "[18, 10, 9, 5, 20]\n",
      "[2, 16, 4, 1, 8]\n",
      "[14, 7, 19, 25, 28]\n",
      "[5, 5, 5, 5, 5]\n",
      "[4, 8, 16, 1, 2]\n",
      "\n",
      "[11, 22, 13, 26, 21]\n",
      "[28, 19, 14, 25, 7]\n",
      "[29, 15, 27, 30, 23]\n",
      "[9, 20, 10, 5, 18]\n",
      "[6, 6, 6, 6, 6]\n",
      "[4, 8, 16, 1, 2]\n",
      "\n",
      "[15, 30, 29, 27, 23]\n",
      "[8, 1, 4, 16, 2]\n",
      "[27, 30, 23, 29, 15]\n",
      "[2, 1, 16, 8, 4]\n",
      "[30, 30, 30, 30, 30]\n",
      "[16, 1, 2, 4, 8]\n",
      "\n"
     ]
    }
   ],
   "source": [
    "pows = 5\n",
    "show_cycles(build_cycles(2, pows), pows + 1)"
   ]
  }
 ],
 "metadata": {
  "kernelspec": {
   "display_name": "Python 3",
   "language": "python",
   "name": "python3"
  },
  "language_info": {
   "codemirror_mode": {
    "name": "ipython",
    "version": 3
   },
   "file_extension": ".py",
   "mimetype": "text/x-python",
   "name": "python",
   "nbconvert_exporter": "python",
   "pygments_lexer": "ipython3",
   "version": "3.6.0"
  }
 },
 "nbformat": 4,
 "nbformat_minor": 2
}
